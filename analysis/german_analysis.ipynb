{
 "metadata": {
  "language_info": {
   "codemirror_mode": {
    "name": "ipython",
    "version": 3
   },
   "file_extension": ".py",
   "mimetype": "text/x-python",
   "name": "python",
   "nbconvert_exporter": "python",
   "pygments_lexer": "ipython3",
   "version": "3.7.9-final"
  },
  "orig_nbformat": 2,
  "kernelspec": {
   "name": "python3",
   "display_name": "Python 3.7.9 64-bit ('ciff': conda)",
   "metadata": {
    "interpreter": {
     "hash": "9e45230b50b2dae50329c9faebc625603f831900457aab7746f6332882628ae7"
    }
   }
  }
 },
 "nbformat": 4,
 "nbformat_minor": 2,
 "cells": [
  {
   "source": [
    "# Import Libs & Datasets"
   ],
   "cell_type": "markdown",
   "metadata": {}
  },
  {
   "cell_type": "code",
   "execution_count": 1,
   "metadata": {},
   "outputs": [],
   "source": [
    "# Import Libs\n",
    "import dowhy, os\n",
    "import dowhy.datasets\n",
    "import pandas as pd\n",
    "import numpy as np\n",
    "import graphviz\n",
    "from graphviz import *\n",
    "import matplotlib.pyplot as plt\n",
    "import seaborn as sns\n",
    "from dowhy import *\n",
    "sns.set()\n",
    "%matplotlib inline"
   ]
  },
  {
   "source": [
    "https://www.kaggle.com/kabure/german-credit-data-with-risk"
   ],
   "cell_type": "markdown",
   "metadata": {}
  },
  {
   "source": [
    "# Data Preprocess"
   ],
   "cell_type": "markdown",
   "metadata": {}
  },
  {
   "source": [
    "- If the applicant is a good credit risk, i.e. is likely to repay the loan, then not approving the loan to the person results in a loss of business to the bank\n",
    "- If the applicant is a bad credit risk, i.e. is not likely to repay the loan, then approving the loan to the person results in a financial loss to the bank"
   ],
   "cell_type": "markdown",
   "metadata": {}
  },
  {
   "cell_type": "code",
   "execution_count": 2,
   "metadata": {},
   "outputs": [
    {
     "output_type": "execute_result",
     "data": {
      "text/plain": [
       "   Age     Sex  Job Housing Saving accounts Checking account  Credit amount  \\\n",
       "0   67    male    2     own             NaN           little           1169   \n",
       "1   22  female    2     own          little         moderate           5951   \n",
       "2   49    male    1     own          little              NaN           2096   \n",
       "3   45    male    2    free          little           little           7882   \n",
       "4   53    male    2    free          little           little           4870   \n",
       "\n",
       "   Duration              Purpose  Risk  \n",
       "0         6             radio/TV  good  \n",
       "1        48             radio/TV   bad  \n",
       "2        12            education  good  \n",
       "3        42  furniture/equipment  good  \n",
       "4        24                  car   bad  "
      ],
      "text/html": "<div>\n<style scoped>\n    .dataframe tbody tr th:only-of-type {\n        vertical-align: middle;\n    }\n\n    .dataframe tbody tr th {\n        vertical-align: top;\n    }\n\n    .dataframe thead th {\n        text-align: right;\n    }\n</style>\n<table border=\"1\" class=\"dataframe\">\n  <thead>\n    <tr style=\"text-align: right;\">\n      <th></th>\n      <th>Age</th>\n      <th>Sex</th>\n      <th>Job</th>\n      <th>Housing</th>\n      <th>Saving accounts</th>\n      <th>Checking account</th>\n      <th>Credit amount</th>\n      <th>Duration</th>\n      <th>Purpose</th>\n      <th>Risk</th>\n    </tr>\n  </thead>\n  <tbody>\n    <tr>\n      <th>0</th>\n      <td>67</td>\n      <td>male</td>\n      <td>2</td>\n      <td>own</td>\n      <td>NaN</td>\n      <td>little</td>\n      <td>1169</td>\n      <td>6</td>\n      <td>radio/TV</td>\n      <td>good</td>\n    </tr>\n    <tr>\n      <th>1</th>\n      <td>22</td>\n      <td>female</td>\n      <td>2</td>\n      <td>own</td>\n      <td>little</td>\n      <td>moderate</td>\n      <td>5951</td>\n      <td>48</td>\n      <td>radio/TV</td>\n      <td>bad</td>\n    </tr>\n    <tr>\n      <th>2</th>\n      <td>49</td>\n      <td>male</td>\n      <td>1</td>\n      <td>own</td>\n      <td>little</td>\n      <td>NaN</td>\n      <td>2096</td>\n      <td>12</td>\n      <td>education</td>\n      <td>good</td>\n    </tr>\n    <tr>\n      <th>3</th>\n      <td>45</td>\n      <td>male</td>\n      <td>2</td>\n      <td>free</td>\n      <td>little</td>\n      <td>little</td>\n      <td>7882</td>\n      <td>42</td>\n      <td>furniture/equipment</td>\n      <td>good</td>\n    </tr>\n    <tr>\n      <th>4</th>\n      <td>53</td>\n      <td>male</td>\n      <td>2</td>\n      <td>free</td>\n      <td>little</td>\n      <td>little</td>\n      <td>4870</td>\n      <td>24</td>\n      <td>car</td>\n      <td>bad</td>\n    </tr>\n  </tbody>\n</table>\n</div>"
     },
     "metadata": {},
     "execution_count": 2
    }
   ],
   "source": [
    "data = pd.read_csv('./dataset/german/german_credit.csv', index_col=0)\n",
    "data.head()"
   ]
  },
  {
   "cell_type": "code",
   "execution_count": 3,
   "metadata": {},
   "outputs": [
    {
     "output_type": "execute_result",
     "data": {
      "text/plain": [
       "array([1, 0], dtype=object)"
      ]
     },
     "metadata": {},
     "execution_count": 3
    }
   ],
   "source": [
    "for i in range(len(data.index)):\n",
    "    if data['Risk'][i] == 'good':\n",
    "        data['Risk'][i] = 1\n",
    "    else:\n",
    "        data['Risk'][i] = 0\n",
    "data['Risk'].unique()"
   ]
  },
  {
   "source": [
    "https://www.kaggle.com/kabure/predicting-credit-risk-model-pipeline"
   ],
   "cell_type": "markdown",
   "metadata": {}
  },
  {
   "cell_type": "code",
   "execution_count": 4,
   "metadata": {},
   "outputs": [
    {
     "output_type": "stream",
     "name": "stdout",
     "text": [
      "data shape  | (1000, 10)\n"
     ]
    }
   ],
   "source": [
    "print('data shape  |', data.shape)"
   ]
  },
  {
   "cell_type": "code",
   "execution_count": 5,
   "metadata": {},
   "outputs": [
    {
     "output_type": "stream",
     "name": "stdout",
     "text": [
      "<class 'pandas.core.frame.DataFrame'>\nInt64Index: 1000 entries, 0 to 999\nData columns (total 10 columns):\n #   Column            Non-Null Count  Dtype \n---  ------            --------------  ----- \n 0   Age               1000 non-null   int64 \n 1   Sex               1000 non-null   object\n 2   Job               1000 non-null   int64 \n 3   Housing           1000 non-null   object\n 4   Saving accounts   817 non-null    object\n 5   Checking account  606 non-null    object\n 6   Credit amount     1000 non-null   int64 \n 7   Duration          1000 non-null   int64 \n 8   Purpose           1000 non-null   object\n 9   Risk              1000 non-null   object\ndtypes: int64(4), object(6)\nmemory usage: 125.9+ KB\nNone\nAge                  53\nSex                   2\nJob                   4\nHousing               3\nSaving accounts       4\nChecking account      3\nCredit amount       921\nDuration             33\nPurpose               8\nRisk                  2\ndtype: int64\n"
     ]
    }
   ],
   "source": [
    "print(data.info())\n",
    "#Looking unique values\n",
    "print(data.nunique())"
   ]
  },
  {
   "source": [
    "# Define Functions"
   ],
   "cell_type": "markdown",
   "metadata": {}
  },
  {
   "cell_type": "code",
   "execution_count": 6,
   "metadata": {},
   "outputs": [],
   "source": [
    "# https://graphviz.readthedocs.io/en/stable/examples.html#process-py\n",
    "def graphviz(t_, o_, cc_, ate, latent = True):\n",
    "    g = Digraph('finite_state_machine', filename = f'{t_}_on_{o_}.gv')\n",
    "    g.attr(size='8,8')\n",
    "\n",
    "    g.attr('node', shape = 'Msquare', color = 'black')\n",
    "    g.node(t_)\n",
    "    g.node(o_)\n",
    "\n",
    "    g.attr('node', shape = 'circle', color = 'black')\n",
    "    for cc in cc_:\n",
    "        g.edge(cc, t_)\n",
    "        g.edge(cc, o_)\n",
    "    \n",
    "    g.edge(t_, o_, label = str(ate))\n",
    "\n",
    "    if latent:\n",
    "        g.attr('node', shape = 'circle', style = 'filled', color = 'black')\n",
    "        g.edge('U', t_, color = 'lightgrey')\n",
    "        g.edge('U', o_, color = 'lightgrey')\n",
    "    \n",
    "    return g  "
   ]
  },
  {
   "cell_type": "code",
   "execution_count": 7,
   "metadata": {},
   "outputs": [],
   "source": [
    "def cm(data, t_, o_, cc_):\n",
    "    model=CausalModel(\n",
    "            data = data,\n",
    "            treatment= t_,\n",
    "            outcome= o_,\n",
    "            common_causes= cc_)\n",
    "\n",
    "    identified_estimand = model.identify_effect(proceed_when_unidentifiable=True)\n",
    "    estimate = model.estimate_effect(identified_estimand,\n",
    "            method_name=\"backdoor.propensity_score_weighting\",\n",
    "            method_params={\"weighting_scheme\":\"ips_weight\"})\n",
    "    return estimate.value"
   ]
  },
  {
   "cell_type": "code",
   "execution_count": 8,
   "metadata": {},
   "outputs": [],
   "source": [
    "def analysis(data, t_, o_, cc_):\n",
    "    score_ = cm(data, t_, o_, cc_)\n",
    "    graphviz_ = graphviz(t_, o_, cc_, score_)\n",
    "    print(f'ATE of Treatment \\'{t_}\\' on Outcome \\'{o_}\\'     |     {score_}')\n",
    "    return graphviz_"
   ]
  },
  {
   "source": [
    "## 1. Causal Estimand - T: Sex, O: Risk\n",
    "### $\\rightarrow$ Are men preferred in risk rating because of their sex?"
   ],
   "cell_type": "markdown",
   "metadata": {}
  },
  {
   "cell_type": "code",
   "execution_count": 9,
   "metadata": {},
   "outputs": [],
   "source": [
    "data1 = data.copy()"
   ]
  },
  {
   "source": [
    "#Preprocess Data -> Let female(str) be True(bool) and male(str) be False(bool)\n",
    "for i in range(len(data1.index)):\n",
    "    if data1['Sex'][i] == 'female':\n",
    "        data1['Sex'][i] = True\n",
    "    else:\n",
    "        data1['Sex'][i] = False\n",
    "data1 = data1.astype({'Sex':'bool'}, copy = False)"
   ],
   "cell_type": "code",
   "metadata": {},
   "execution_count": 10,
   "outputs": []
  },
  {
   "cell_type": "code",
   "execution_count": 11,
   "metadata": {},
   "outputs": [
    {
     "output_type": "execute_result",
     "data": {
      "text/plain": [
       "   Age    Sex  Job Housing Saving accounts Checking account  Credit amount  \\\n",
       "1   22   True    2     own          little         moderate           5951   \n",
       "3   45  False    2    free          little           little           7882   \n",
       "4   53  False    2    free          little           little           4870   \n",
       "7   35  False    3    rent          little         moderate           6948   \n",
       "9   28  False    3     own          little         moderate           5234   \n",
       "\n",
       "   Duration              Purpose Risk  \n",
       "1        48             radio/TV    0  \n",
       "3        42  furniture/equipment    1  \n",
       "4        24                  car    0  \n",
       "7        36                  car    1  \n",
       "9        30                  car    0  "
      ],
      "text/html": "<div>\n<style scoped>\n    .dataframe tbody tr th:only-of-type {\n        vertical-align: middle;\n    }\n\n    .dataframe tbody tr th {\n        vertical-align: top;\n    }\n\n    .dataframe thead th {\n        text-align: right;\n    }\n</style>\n<table border=\"1\" class=\"dataframe\">\n  <thead>\n    <tr style=\"text-align: right;\">\n      <th></th>\n      <th>Age</th>\n      <th>Sex</th>\n      <th>Job</th>\n      <th>Housing</th>\n      <th>Saving accounts</th>\n      <th>Checking account</th>\n      <th>Credit amount</th>\n      <th>Duration</th>\n      <th>Purpose</th>\n      <th>Risk</th>\n    </tr>\n  </thead>\n  <tbody>\n    <tr>\n      <th>1</th>\n      <td>22</td>\n      <td>True</td>\n      <td>2</td>\n      <td>own</td>\n      <td>little</td>\n      <td>moderate</td>\n      <td>5951</td>\n      <td>48</td>\n      <td>radio/TV</td>\n      <td>0</td>\n    </tr>\n    <tr>\n      <th>3</th>\n      <td>45</td>\n      <td>False</td>\n      <td>2</td>\n      <td>free</td>\n      <td>little</td>\n      <td>little</td>\n      <td>7882</td>\n      <td>42</td>\n      <td>furniture/equipment</td>\n      <td>1</td>\n    </tr>\n    <tr>\n      <th>4</th>\n      <td>53</td>\n      <td>False</td>\n      <td>2</td>\n      <td>free</td>\n      <td>little</td>\n      <td>little</td>\n      <td>4870</td>\n      <td>24</td>\n      <td>car</td>\n      <td>0</td>\n    </tr>\n    <tr>\n      <th>7</th>\n      <td>35</td>\n      <td>False</td>\n      <td>3</td>\n      <td>rent</td>\n      <td>little</td>\n      <td>moderate</td>\n      <td>6948</td>\n      <td>36</td>\n      <td>car</td>\n      <td>1</td>\n    </tr>\n    <tr>\n      <th>9</th>\n      <td>28</td>\n      <td>False</td>\n      <td>3</td>\n      <td>own</td>\n      <td>little</td>\n      <td>moderate</td>\n      <td>5234</td>\n      <td>30</td>\n      <td>car</td>\n      <td>0</td>\n    </tr>\n  </tbody>\n</table>\n</div>"
     },
     "metadata": {},
     "execution_count": 11
    }
   ],
   "source": [
    "data1 = data1.dropna(axis=0)\n",
    "data1.head()"
   ]
  },
  {
   "cell_type": "code",
   "execution_count": 12,
   "metadata": {},
   "outputs": [],
   "source": [
    "# Set Treatment | Confounding Features | Outcome\n",
    "treatment = 'Sex'\n",
    "outcome = 'Risk'\n",
    "common_causes = 'Age+Job+Housing+Savings accounts+Checking account+Credit amount+Duration+Purpose'.split('+')"
   ]
  },
  {
   "cell_type": "code",
   "execution_count": 13,
   "metadata": {},
   "outputs": [
    {
     "output_type": "stream",
     "name": "stderr",
     "text": [
      "WARNING:dowhy.causal_model:Causal Graph not provided. DoWhy will construct a graph based on data inputs.\n",
      "INFO:dowhy.causal_model:Model to find the causal effect of treatment ['Sex'] on outcome ['Risk']\n",
      "INFO:dowhy.causal_identifier:Common causes of treatment and outcome:['Housing', 'Savings accounts', 'Purpose', 'Age', 'Credit amount', 'Checking account', 'Job', 'Duration']\n",
      "WARNING:dowhy.causal_identifier:If this is observed data (not from a randomized experiment), there might always be missing confounders. Causal effect cannot be identified perfectly.\n",
      "INFO:dowhy.causal_identifier:Continuing by ignoring these unobserved confounders because proceed_when_unidentifiable flag is True.\n",
      "INFO:dowhy.causal_identifier:Instrumental variables for treatment and outcome:[]\n",
      "INFO:dowhy.causal_estimator:INFO: Using Propensity Score Weighting Estimator\n",
      "INFO:dowhy.causal_estimator:b: Risk~Sex+Housing+Purpose+Age+Credit amount+Checking account+Job+Duration\n",
      "ATE of Treatment 'Sex' on Outcome 'Risk'     |     -0.07762450225590944\n"
     ]
    },
    {
     "output_type": "execute_result",
     "data": {
      "text/plain": [
       "<graphviz.dot.Digraph at 0x7fb5c6296a10>"
      ],
      "image/svg+xml": "<?xml version=\"1.0\" encoding=\"UTF-8\" standalone=\"no\"?>\n<!DOCTYPE svg PUBLIC \"-//W3C//DTD SVG 1.1//EN\"\n \"http://www.w3.org/Graphics/SVG/1.1/DTD/svg11.dtd\">\n<!-- Generated by graphviz version 2.44.1 (20200629.0846)\n -->\n<!-- Title: finite_state_machine Pages: 1 -->\n<svg width=\"576pt\" height=\"197pt\"\n viewBox=\"0.00 0.00 576.00 197.04\" xmlns=\"http://www.w3.org/2000/svg\" xmlns:xlink=\"http://www.w3.org/1999/xlink\">\n<g id=\"graph0\" class=\"graph\" transform=\"scale(0.61 0.61) rotate(0) translate(4 318.19)\">\n<title>finite_state_machine</title>\n<polygon fill=\"white\" stroke=\"transparent\" points=\"-4,4 -4,-318.19 937.84,-318.19 937.84,4 -4,4\"/>\n<!-- Sex -->\n<g id=\"node1\" class=\"node\">\n<title>Sex</title>\n<polygon fill=\"none\" stroke=\"black\" points=\"463.25,-129 426.25,-129 426.25,-92 463.25,-92 463.25,-129\"/>\n<polyline fill=\"none\" stroke=\"black\" points=\"438.25,-129 426.25,-117 \"/>\n<polyline fill=\"none\" stroke=\"black\" points=\"426.25,-104 438.25,-92 \"/>\n<polyline fill=\"none\" stroke=\"black\" points=\"451.25,-92 463.25,-104 \"/>\n<polyline fill=\"none\" stroke=\"black\" points=\"463.25,-117 451.25,-129 \"/>\n<text text-anchor=\"middle\" x=\"444.75\" y=\"-106.8\" font-family=\"Times,serif\" font-size=\"14.00\">Sex</text>\n</g>\n<!-- Risk -->\n<g id=\"node2\" class=\"node\">\n<title>Risk</title>\n<polygon fill=\"none\" stroke=\"black\" points=\"434.25,-41 393.25,-41 393.25,0 434.25,0 434.25,-41\"/>\n<polyline fill=\"none\" stroke=\"black\" points=\"405.25,-41 393.25,-29 \"/>\n<polyline fill=\"none\" stroke=\"black\" points=\"393.25,-12 405.25,0 \"/>\n<polyline fill=\"none\" stroke=\"black\" points=\"422.25,0 434.25,-12 \"/>\n<polyline fill=\"none\" stroke=\"black\" points=\"434.25,-29 422.25,-41 \"/>\n<text text-anchor=\"middle\" x=\"413.75\" y=\"-16.8\" font-family=\"Times,serif\" font-size=\"14.00\">Risk</text>\n</g>\n<!-- Sex&#45;&gt;Risk -->\n<g id=\"edge17\" class=\"edge\">\n<title>Sex&#45;&gt;Risk</title>\n<path fill=\"none\" stroke=\"black\" d=\"M438.2,-91.83C436.11,-86.15 433.81,-79.82 431.75,-74 429.08,-66.49 426.26,-58.34 423.66,-50.77\"/>\n<polygon fill=\"black\" stroke=\"black\" points=\"426.95,-49.56 420.4,-41.23 420.32,-51.82 426.95,-49.56\"/>\n<text text-anchor=\"middle\" x=\"496.75\" y=\"-62.8\" font-family=\"Times,serif\" font-size=\"14.00\">&#45;0.07762450225590944</text>\n</g>\n<!-- Age -->\n<g id=\"node3\" class=\"node\">\n<title>Age</title>\n<ellipse fill=\"none\" stroke=\"black\" cx=\"344.75\" cy=\"-240.09\" rx=\"25.2\" ry=\"25.2\"/>\n<text text-anchor=\"middle\" x=\"344.75\" y=\"-236.39\" font-family=\"Times,serif\" font-size=\"14.00\">Age</text>\n</g>\n<!-- Age&#45;&gt;Sex -->\n<g id=\"edge1\" class=\"edge\">\n<title>Age&#45;&gt;Sex</title>\n<path fill=\"none\" stroke=\"black\" d=\"M352.88,-215.93C358.87,-200.8 368.02,-181.12 379.75,-166 390.38,-152.29 405,-139.66 417.67,-130.01\"/>\n<polygon fill=\"black\" stroke=\"black\" points=\"420.09,-132.58 426.07,-123.84 415.94,-126.94 420.09,-132.58\"/>\n</g>\n<!-- Age&#45;&gt;Risk -->\n<g id=\"edge2\" class=\"edge\">\n<title>Age&#45;&gt;Risk</title>\n<path fill=\"none\" stroke=\"black\" d=\"M352.13,-215.81C364.78,-175.92 390.57,-94.6 404.43,-50.88\"/>\n<polygon fill=\"black\" stroke=\"black\" points=\"407.84,-51.72 407.52,-41.13 401.16,-49.6 407.84,-51.72\"/>\n</g>\n<!-- Job -->\n<g id=\"node4\" class=\"node\">\n<title>Job</title>\n<ellipse fill=\"none\" stroke=\"black\" cx=\"22.75\" cy=\"-240.09\" rx=\"23\" ry=\"23\"/>\n<text text-anchor=\"middle\" x=\"22.75\" y=\"-236.39\" font-family=\"Times,serif\" font-size=\"14.00\">Job</text>\n</g>\n<!-- Job&#45;&gt;Sex -->\n<g id=\"edge3\" class=\"edge\">\n<title>Job&#45;&gt;Sex</title>\n<path fill=\"none\" stroke=\"black\" d=\"M26.38,-217.31C30.38,-200.57 38.52,-178.3 54.75,-166 111.6,-122.91 334.92,-113.86 415.53,-111.98\"/>\n<polygon fill=\"black\" stroke=\"black\" points=\"416,-115.47 425.93,-111.76 415.85,-108.47 416,-115.47\"/>\n</g>\n<!-- Job&#45;&gt;Risk -->\n<g id=\"edge4\" class=\"edge\">\n<title>Job&#45;&gt;Risk</title>\n<path fill=\"none\" stroke=\"black\" d=\"M27.45,-217.67C31.98,-201.58 40.33,-179.99 54.75,-166 150.86,-72.73 314.96,-37.1 382.89,-25.9\"/>\n<polygon fill=\"black\" stroke=\"black\" points=\"383.62,-29.32 392.95,-24.3 382.52,-22.41 383.62,-29.32\"/>\n</g>\n<!-- Housing -->\n<g id=\"node5\" class=\"node\">\n<title>Housing</title>\n<ellipse fill=\"none\" stroke=\"black\" cx=\"428.75\" cy=\"-240.09\" rx=\"40.09\" ry=\"40.09\"/>\n<text text-anchor=\"middle\" x=\"428.75\" y=\"-236.39\" font-family=\"Times,serif\" font-size=\"14.00\">Housing</text>\n</g>\n<!-- Housing&#45;&gt;Sex -->\n<g id=\"edge5\" class=\"edge\">\n<title>Housing&#45;&gt;Sex</title>\n<path fill=\"none\" stroke=\"black\" d=\"M433.68,-199.77C436.13,-180.24 439.03,-157.11 441.25,-139.43\"/>\n<polygon fill=\"black\" stroke=\"black\" points=\"444.76,-139.56 442.53,-129.2 437.81,-138.69 444.76,-139.56\"/>\n</g>\n<!-- Housing&#45;&gt;Risk -->\n<g id=\"edge6\" class=\"edge\">\n<title>Housing&#45;&gt;Risk</title>\n<path fill=\"none\" stroke=\"black\" d=\"M423.7,-199.93C421.19,-178.93 418.36,-152.59 416.75,-129 414.96,-102.87 414.23,-73.09 413.94,-51.51\"/>\n<polygon fill=\"black\" stroke=\"black\" points=\"417.44,-51.3 413.82,-41.34 410.44,-51.38 417.44,-51.3\"/>\n</g>\n<!-- Savings accounts -->\n<g id=\"node6\" class=\"node\">\n<title>Savings accounts</title>\n<ellipse fill=\"none\" stroke=\"black\" cx=\"134.75\" cy=\"-240.09\" rx=\"71.49\" ry=\"71.49\"/>\n<text text-anchor=\"middle\" x=\"134.75\" y=\"-236.39\" font-family=\"Times,serif\" font-size=\"14.00\">Savings accounts</text>\n</g>\n<!-- Savings accounts&#45;&gt;Sex -->\n<g id=\"edge7\" class=\"edge\">\n<title>Savings accounts&#45;&gt;Sex</title>\n<path fill=\"none\" stroke=\"black\" d=\"M183.04,-186.94C192.81,-178.83 203.55,-171.37 214.75,-166 261.79,-143.44 279.97,-159.99 330.75,-148 360.52,-140.97 393.75,-129.95 416.62,-121.86\"/>\n<polygon fill=\"black\" stroke=\"black\" points=\"417.81,-125.15 426.04,-118.48 415.45,-118.56 417.81,-125.15\"/>\n</g>\n<!-- Savings accounts&#45;&gt;Risk -->\n<g id=\"edge8\" class=\"edge\">\n<title>Savings accounts&#45;&gt;Risk</title>\n<path fill=\"none\" stroke=\"black\" d=\"M186.5,-190.26C195.75,-181.98 205.42,-173.61 214.75,-166 273.04,-118.46 345.35,-67.92 384.77,-41.02\"/>\n<polygon fill=\"black\" stroke=\"black\" points=\"386.83,-43.85 393.13,-35.33 382.9,-38.06 386.83,-43.85\"/>\n</g>\n<!-- Checking account -->\n<g id=\"node7\" class=\"node\">\n<title>Checking account</title>\n<ellipse fill=\"none\" stroke=\"black\" cx=\"859.75\" cy=\"-240.09\" rx=\"74.19\" ry=\"74.19\"/>\n<text text-anchor=\"middle\" x=\"859.75\" y=\"-236.39\" font-family=\"Times,serif\" font-size=\"14.00\">Checking account</text>\n</g>\n<!-- Checking account&#45;&gt;Sex -->\n<g id=\"edge9\" class=\"edge\">\n<title>Checking account&#45;&gt;Sex</title>\n<path fill=\"none\" stroke=\"black\" d=\"M808.46,-186.3C798.59,-178.46 787.85,-171.26 776.75,-166 673.13,-116.92 533.23,-111.06 473.6,-111\"/>\n<polygon fill=\"black\" stroke=\"black\" points=\"473.41,-107.5 463.43,-111.05 473.44,-114.5 473.41,-107.5\"/>\n</g>\n<!-- Checking account&#45;&gt;Risk -->\n<g id=\"edge10\" class=\"edge\">\n<title>Checking account&#45;&gt;Risk</title>\n<path fill=\"none\" stroke=\"black\" d=\"M808.15,-186.86C763.44,-145 694.91,-88.54 623.75,-59 563.49,-33.98 486.72,-25.64 444.7,-22.87\"/>\n<polygon fill=\"black\" stroke=\"black\" points=\"444.74,-19.36 434.55,-22.26 444.32,-26.35 444.74,-19.36\"/>\n</g>\n<!-- Credit amount -->\n<g id=\"node8\" class=\"node\">\n<title>Credit amount</title>\n<ellipse fill=\"none\" stroke=\"black\" cx=\"705.75\" cy=\"-240.09\" rx=\"61.99\" ry=\"61.99\"/>\n<text text-anchor=\"middle\" x=\"705.75\" y=\"-236.39\" font-family=\"Times,serif\" font-size=\"14.00\">Credit amount</text>\n</g>\n<!-- Credit amount&#45;&gt;Sex -->\n<g id=\"edge11\" class=\"edge\">\n<title>Credit amount&#45;&gt;Sex</title>\n<path fill=\"none\" stroke=\"black\" d=\"M666.91,-191.75C657.23,-182.16 646.28,-172.91 634.75,-166 582.81,-134.89 512.23,-120.78 473.36,-115.01\"/>\n<polygon fill=\"black\" stroke=\"black\" points=\"473.67,-111.52 463.28,-113.59 472.7,-118.45 473.67,-111.52\"/>\n</g>\n<!-- Credit amount&#45;&gt;Risk -->\n<g id=\"edge12\" class=\"edge\">\n<title>Credit amount&#45;&gt;Risk</title>\n<path fill=\"none\" stroke=\"black\" d=\"M687.41,-180.99C671.42,-140.21 644.05,-87.97 601.75,-59 576.59,-41.77 491.14,-29.99 444.59,-24.69\"/>\n<polygon fill=\"black\" stroke=\"black\" points=\"444.79,-21.19 434.46,-23.57 444.02,-28.15 444.79,-21.19\"/>\n</g>\n<!-- Duration -->\n<g id=\"node9\" class=\"node\">\n<title>Duration</title>\n<ellipse fill=\"none\" stroke=\"black\" cx=\"529.75\" cy=\"-240.09\" rx=\"42.49\" ry=\"42.49\"/>\n<text text-anchor=\"middle\" x=\"529.75\" y=\"-236.39\" font-family=\"Times,serif\" font-size=\"14.00\">Duration</text>\n</g>\n<!-- Duration&#45;&gt;Sex -->\n<g id=\"edge13\" class=\"edge\">\n<title>Duration&#45;&gt;Sex</title>\n<path fill=\"none\" stroke=\"black\" d=\"M506.75,-204.56C492.68,-183.44 474.97,-156.86 462.08,-137.52\"/>\n<polygon fill=\"black\" stroke=\"black\" points=\"464.99,-135.57 456.53,-129.19 459.16,-139.45 464.99,-135.57\"/>\n</g>\n<!-- Duration&#45;&gt;Risk -->\n<g id=\"edge14\" class=\"edge\">\n<title>Duration&#45;&gt;Risk</title>\n<path fill=\"none\" stroke=\"black\" d=\"M550.84,-203.39C571.06,-163.98 594.12,-100.6 561.75,-59 547.54,-40.74 483.88,-29.94 444.82,-24.93\"/>\n<polygon fill=\"black\" stroke=\"black\" points=\"444.87,-21.41 434.52,-23.66 444.02,-28.35 444.87,-21.41\"/>\n</g>\n<!-- Purpose -->\n<g id=\"node10\" class=\"node\">\n<title>Purpose</title>\n<ellipse fill=\"none\" stroke=\"black\" cx=\"262.75\" cy=\"-240.09\" rx=\"38.99\" ry=\"38.99\"/>\n<text text-anchor=\"middle\" x=\"262.75\" y=\"-236.39\" font-family=\"Times,serif\" font-size=\"14.00\">Purpose</text>\n</g>\n<!-- Purpose&#45;&gt;Sex -->\n<g id=\"edge15\" class=\"edge\">\n<title>Purpose&#45;&gt;Sex</title>\n<path fill=\"none\" stroke=\"black\" d=\"M279.6,-204.45C287.53,-191 298.05,-176.37 310.75,-166 327.43,-152.37 335.78,-156.09 355.75,-148 376.06,-139.77 398.94,-130.39 416.41,-123.19\"/>\n<polygon fill=\"black\" stroke=\"black\" points=\"418.1,-126.28 426.02,-119.24 415.44,-119.81 418.1,-126.28\"/>\n</g>\n<!-- Purpose&#45;&gt;Risk -->\n<g id=\"edge16\" class=\"edge\">\n<title>Purpose&#45;&gt;Risk</title>\n<path fill=\"none\" stroke=\"black\" d=\"M283.51,-206.9C291.87,-194.09 301.66,-179.28 310.75,-166 338.66,-125.22 372.03,-78.81 393.06,-49.84\"/>\n<polygon fill=\"black\" stroke=\"black\" points=\"396.12,-51.58 399.17,-41.43 390.46,-47.46 396.12,-51.58\"/>\n</g>\n<!-- U -->\n<g id=\"node11\" class=\"node\">\n<title>U</title>\n<ellipse fill=\"black\" stroke=\"black\" cx=\"607.75\" cy=\"-240.09\" rx=\"18\" ry=\"18\"/>\n<text text-anchor=\"middle\" x=\"607.75\" y=\"-236.39\" font-family=\"Times,serif\" font-size=\"14.00\">U</text>\n</g>\n<!-- U&#45;&gt;Sex -->\n<g id=\"edge18\" class=\"edge\">\n<title>U&#45;&gt;Sex</title>\n<path fill=\"none\" stroke=\"lightgrey\" d=\"M605.59,-222.13C602.66,-205.75 595.92,-181.25 580.75,-166 564.68,-149.85 553.94,-156.37 532.75,-148 512.69,-140.08 490.23,-130.76 473.02,-123.52\"/>\n<polygon fill=\"lightgrey\" stroke=\"lightgrey\" points=\"474.13,-120.19 463.55,-119.52 471.41,-126.63 474.13,-120.19\"/>\n</g>\n<!-- U&#45;&gt;Risk -->\n<g id=\"edge19\" class=\"edge\">\n<title>U&#45;&gt;Risk</title>\n<path fill=\"none\" stroke=\"lightgrey\" d=\"M611.32,-222.29C617.9,-186.18 627.3,-101.08 580.75,-59 560.98,-41.14 486.98,-29.9 444.41,-24.77\"/>\n<polygon fill=\"lightgrey\" stroke=\"lightgrey\" points=\"444.66,-21.28 434.32,-23.6 443.85,-28.23 444.66,-21.28\"/>\n</g>\n</g>\n</svg>\n"
     },
     "metadata": {},
     "execution_count": 13
    }
   ],
   "source": [
    "analysis(data1, treatment, outcome, common_causes)"
   ]
  },
  {
   "source": [
    "## 2. Causal Estimand - T: Age, O: Risk\n",
    "### $\\rightarrow$ Are older people preferred in risk rating because of high age?"
   ],
   "cell_type": "markdown",
   "metadata": {}
  },
  {
   "cell_type": "code",
   "execution_count": 14,
   "metadata": {},
   "outputs": [],
   "source": [
    "data2 = data.copy()"
   ]
  },
  {
   "cell_type": "code",
   "execution_count": 15,
   "metadata": {},
   "outputs": [
    {
     "output_type": "stream",
     "name": "stdout",
     "text": [
      "33.0\n"
     ]
    },
    {
     "output_type": "display_data",
     "data": {
      "text/plain": "<Figure size 432x288 with 1 Axes>",
      "image/svg+xml": "<?xml version=\"1.0\" encoding=\"utf-8\" standalone=\"no\"?>\n<!DOCTYPE svg PUBLIC \"-//W3C//DTD SVG 1.1//EN\"\n  \"http://www.w3.org/Graphics/SVG/1.1/DTD/svg11.dtd\">\n<!-- Created with matplotlib (https://matplotlib.org/) -->\n<svg height=\"251.399844pt\" version=\"1.1\" viewBox=\"0 0 377.051094 251.399844\" width=\"377.051094pt\" xmlns=\"http://www.w3.org/2000/svg\" xmlns:xlink=\"http://www.w3.org/1999/xlink\">\n <metadata>\n  <rdf:RDF xmlns:cc=\"http://creativecommons.org/ns#\" xmlns:dc=\"http://purl.org/dc/elements/1.1/\" xmlns:rdf=\"http://www.w3.org/1999/02/22-rdf-syntax-ns#\">\n   <cc:Work>\n    <dc:type rdf:resource=\"http://purl.org/dc/dcmitype/StillImage\"/>\n    <dc:date>2020-12-29T15:33:40.241959</dc:date>\n    <dc:format>image/svg+xml</dc:format>\n    <dc:creator>\n     <cc:Agent>\n      <dc:title>Matplotlib v3.3.2, https://matplotlib.org/</dc:title>\n     </cc:Agent>\n    </dc:creator>\n   </cc:Work>\n  </rdf:RDF>\n </metadata>\n <defs>\n  <style type=\"text/css\">*{stroke-linecap:butt;stroke-linejoin:round;}</style>\n </defs>\n <g id=\"figure_1\">\n  <g id=\"patch_1\">\n   <path d=\"M 0 251.399844 \nL 377.051094 251.399844 \nL 377.051094 0 \nL 0 0 \nz\n\" style=\"fill:none;\"/>\n  </g>\n  <g id=\"axes_1\">\n   <g id=\"patch_2\">\n    <path d=\"M 35.051094 224.64 \nL 369.851094 224.64 \nL 369.851094 7.2 \nL 35.051094 7.2 \nz\n\" style=\"fill:#eaeaf2;\"/>\n   </g>\n   <g id=\"matplotlib.axis_1\">\n    <g id=\"xtick_1\">\n     <g id=\"line2d_1\">\n      <path clip-path=\"url(#pead85bc20e)\" d=\"M 55.704341 224.64 \nL 55.704341 7.2 \n\" style=\"fill:none;stroke:#ffffff;stroke-linecap:round;\"/>\n     </g>\n     <g id=\"text_1\">\n      <!-- 20 -->\n      <g style=\"fill:#262626;\" transform=\"translate(49.587309 242.013594)scale(0.11 -0.11)\">\n       <defs>\n        <path d=\"M 50.34375 8.453125 \nL 50.34375 0 \nL 3.03125 0 \nQ 2.9375 3.171875 4.046875 6.109375 \nQ 5.859375 10.9375 9.828125 15.625 \nQ 13.8125 20.3125 21.34375 26.46875 \nQ 33.015625 36.03125 37.109375 41.625 \nQ 41.21875 47.21875 41.21875 52.203125 \nQ 41.21875 57.421875 37.46875 61 \nQ 33.734375 64.59375 27.734375 64.59375 \nQ 21.390625 64.59375 17.578125 60.78125 \nQ 13.765625 56.984375 13.71875 50.25 \nL 4.6875 51.171875 \nQ 5.609375 61.28125 11.65625 66.578125 \nQ 17.71875 71.875 27.9375 71.875 \nQ 38.234375 71.875 44.234375 66.15625 \nQ 50.25 60.453125 50.25 52 \nQ 50.25 47.703125 48.484375 43.546875 \nQ 46.734375 39.40625 42.65625 34.8125 \nQ 38.578125 30.21875 29.109375 22.21875 \nQ 21.1875 15.578125 18.9375 13.203125 \nQ 16.703125 10.84375 15.234375 8.453125 \nz\n\" id=\"ArialMT-50\"/>\n        <path d=\"M 4.15625 35.296875 \nQ 4.15625 48 6.765625 55.734375 \nQ 9.375 63.484375 14.515625 67.671875 \nQ 19.671875 71.875 27.484375 71.875 \nQ 33.25 71.875 37.59375 69.546875 \nQ 41.9375 67.234375 44.765625 62.859375 \nQ 47.609375 58.5 49.21875 52.21875 \nQ 50.828125 45.953125 50.828125 35.296875 \nQ 50.828125 22.703125 48.234375 14.96875 \nQ 45.65625 7.234375 40.5 3 \nQ 35.359375 -1.21875 27.484375 -1.21875 \nQ 17.140625 -1.21875 11.234375 6.203125 \nQ 4.15625 15.140625 4.15625 35.296875 \nz\nM 13.1875 35.296875 \nQ 13.1875 17.671875 17.3125 11.828125 \nQ 21.4375 6 27.484375 6 \nQ 33.546875 6 37.671875 11.859375 \nQ 41.796875 17.71875 41.796875 35.296875 \nQ 41.796875 52.984375 37.671875 58.78125 \nQ 33.546875 64.59375 27.390625 64.59375 \nQ 21.34375 64.59375 17.71875 59.46875 \nQ 13.1875 52.9375 13.1875 35.296875 \nz\n\" id=\"ArialMT-48\"/>\n       </defs>\n       <use xlink:href=\"#ArialMT-50\"/>\n       <use x=\"55.615234\" xlink:href=\"#ArialMT-48\"/>\n      </g>\n     </g>\n    </g>\n    <g id=\"xtick_2\">\n     <g id=\"line2d_2\">\n      <path clip-path=\"url(#pead85bc20e)\" d=\"M 110.05499 224.64 \nL 110.05499 7.2 \n\" style=\"fill:none;stroke:#ffffff;stroke-linecap:round;\"/>\n     </g>\n     <g id=\"text_2\">\n      <!-- 30 -->\n      <g style=\"fill:#262626;\" transform=\"translate(103.937959 242.013594)scale(0.11 -0.11)\">\n       <defs>\n        <path d=\"M 4.203125 18.890625 \nL 12.984375 20.0625 \nQ 14.5 12.59375 18.140625 9.296875 \nQ 21.78125 6 27 6 \nQ 33.203125 6 37.46875 10.296875 \nQ 41.75 14.59375 41.75 20.953125 \nQ 41.75 27 37.796875 30.921875 \nQ 33.84375 34.859375 27.734375 34.859375 \nQ 25.25 34.859375 21.53125 33.890625 \nL 22.515625 41.609375 \nQ 23.390625 41.5 23.921875 41.5 \nQ 29.546875 41.5 34.03125 44.421875 \nQ 38.53125 47.359375 38.53125 53.46875 \nQ 38.53125 58.296875 35.25 61.46875 \nQ 31.984375 64.65625 26.8125 64.65625 \nQ 21.6875 64.65625 18.265625 61.421875 \nQ 14.84375 58.203125 13.875 51.765625 \nL 5.078125 53.328125 \nQ 6.6875 62.15625 12.390625 67.015625 \nQ 18.109375 71.875 26.609375 71.875 \nQ 32.46875 71.875 37.390625 69.359375 \nQ 42.328125 66.84375 44.9375 62.5 \nQ 47.5625 58.15625 47.5625 53.265625 \nQ 47.5625 48.640625 45.0625 44.828125 \nQ 42.578125 41.015625 37.703125 38.765625 \nQ 44.046875 37.3125 47.5625 32.6875 \nQ 51.078125 28.078125 51.078125 21.140625 \nQ 51.078125 11.765625 44.234375 5.25 \nQ 37.40625 -1.265625 26.953125 -1.265625 \nQ 17.53125 -1.265625 11.296875 4.34375 \nQ 5.078125 9.96875 4.203125 18.890625 \nz\n\" id=\"ArialMT-51\"/>\n       </defs>\n       <use xlink:href=\"#ArialMT-51\"/>\n       <use x=\"55.615234\" xlink:href=\"#ArialMT-48\"/>\n      </g>\n     </g>\n    </g>\n    <g id=\"xtick_3\">\n     <g id=\"line2d_3\">\n      <path clip-path=\"url(#pead85bc20e)\" d=\"M 164.405639 224.64 \nL 164.405639 7.2 \n\" style=\"fill:none;stroke:#ffffff;stroke-linecap:round;\"/>\n     </g>\n     <g id=\"text_3\">\n      <!-- 40 -->\n      <g style=\"fill:#262626;\" transform=\"translate(158.288608 242.013594)scale(0.11 -0.11)\">\n       <defs>\n        <path d=\"M 32.328125 0 \nL 32.328125 17.140625 \nL 1.265625 17.140625 \nL 1.265625 25.203125 \nL 33.9375 71.578125 \nL 41.109375 71.578125 \nL 41.109375 25.203125 \nL 50.78125 25.203125 \nL 50.78125 17.140625 \nL 41.109375 17.140625 \nL 41.109375 0 \nz\nM 32.328125 25.203125 \nL 32.328125 57.46875 \nL 9.90625 25.203125 \nz\n\" id=\"ArialMT-52\"/>\n       </defs>\n       <use xlink:href=\"#ArialMT-52\"/>\n       <use x=\"55.615234\" xlink:href=\"#ArialMT-48\"/>\n      </g>\n     </g>\n    </g>\n    <g id=\"xtick_4\">\n     <g id=\"line2d_4\">\n      <path clip-path=\"url(#pead85bc20e)\" d=\"M 218.756289 224.64 \nL 218.756289 7.2 \n\" style=\"fill:none;stroke:#ffffff;stroke-linecap:round;\"/>\n     </g>\n     <g id=\"text_4\">\n      <!-- 50 -->\n      <g style=\"fill:#262626;\" transform=\"translate(212.639257 242.013594)scale(0.11 -0.11)\">\n       <defs>\n        <path d=\"M 4.15625 18.75 \nL 13.375 19.53125 \nQ 14.40625 12.796875 18.140625 9.390625 \nQ 21.875 6 27.15625 6 \nQ 33.5 6 37.890625 10.78125 \nQ 42.28125 15.578125 42.28125 23.484375 \nQ 42.28125 31 38.0625 35.34375 \nQ 33.84375 39.703125 27 39.703125 \nQ 22.75 39.703125 19.328125 37.765625 \nQ 15.921875 35.84375 13.96875 32.765625 \nL 5.71875 33.84375 \nL 12.640625 70.609375 \nL 48.25 70.609375 \nL 48.25 62.203125 \nL 19.671875 62.203125 \nL 15.828125 42.96875 \nQ 22.265625 47.46875 29.34375 47.46875 \nQ 38.71875 47.46875 45.15625 40.96875 \nQ 51.609375 34.46875 51.609375 24.265625 \nQ 51.609375 14.546875 45.953125 7.46875 \nQ 39.0625 -1.21875 27.15625 -1.21875 \nQ 17.390625 -1.21875 11.203125 4.25 \nQ 5.03125 9.71875 4.15625 18.75 \nz\n\" id=\"ArialMT-53\"/>\n       </defs>\n       <use xlink:href=\"#ArialMT-53\"/>\n       <use x=\"55.615234\" xlink:href=\"#ArialMT-48\"/>\n      </g>\n     </g>\n    </g>\n    <g id=\"xtick_5\">\n     <g id=\"line2d_5\">\n      <path clip-path=\"url(#pead85bc20e)\" d=\"M 273.106938 224.64 \nL 273.106938 7.2 \n\" style=\"fill:none;stroke:#ffffff;stroke-linecap:round;\"/>\n     </g>\n     <g id=\"text_5\">\n      <!-- 60 -->\n      <g style=\"fill:#262626;\" transform=\"translate(266.989907 242.013594)scale(0.11 -0.11)\">\n       <defs>\n        <path d=\"M 49.75 54.046875 \nL 41.015625 53.375 \nQ 39.84375 58.546875 37.703125 60.890625 \nQ 34.125 64.65625 28.90625 64.65625 \nQ 24.703125 64.65625 21.53125 62.3125 \nQ 17.390625 59.28125 14.984375 53.46875 \nQ 12.59375 47.65625 12.5 36.921875 \nQ 15.671875 41.75 20.265625 44.09375 \nQ 24.859375 46.4375 29.890625 46.4375 \nQ 38.671875 46.4375 44.84375 39.96875 \nQ 51.03125 33.5 51.03125 23.25 \nQ 51.03125 16.5 48.125 10.71875 \nQ 45.21875 4.9375 40.140625 1.859375 \nQ 35.0625 -1.21875 28.609375 -1.21875 \nQ 17.625 -1.21875 10.6875 6.859375 \nQ 3.765625 14.9375 3.765625 33.5 \nQ 3.765625 54.25 11.421875 63.671875 \nQ 18.109375 71.875 29.4375 71.875 \nQ 37.890625 71.875 43.28125 67.140625 \nQ 48.6875 62.40625 49.75 54.046875 \nz\nM 13.875 23.1875 \nQ 13.875 18.65625 15.796875 14.5 \nQ 17.71875 10.359375 21.1875 8.171875 \nQ 24.65625 6 28.46875 6 \nQ 34.03125 6 38.03125 10.484375 \nQ 42.046875 14.984375 42.046875 22.703125 \nQ 42.046875 30.125 38.078125 34.390625 \nQ 34.125 38.671875 28.125 38.671875 \nQ 22.171875 38.671875 18.015625 34.390625 \nQ 13.875 30.125 13.875 23.1875 \nz\n\" id=\"ArialMT-54\"/>\n       </defs>\n       <use xlink:href=\"#ArialMT-54\"/>\n       <use x=\"55.615234\" xlink:href=\"#ArialMT-48\"/>\n      </g>\n     </g>\n    </g>\n    <g id=\"xtick_6\">\n     <g id=\"line2d_6\">\n      <path clip-path=\"url(#pead85bc20e)\" d=\"M 327.457587 224.64 \nL 327.457587 7.2 \n\" style=\"fill:none;stroke:#ffffff;stroke-linecap:round;\"/>\n     </g>\n     <g id=\"text_6\">\n      <!-- 70 -->\n      <g style=\"fill:#262626;\" transform=\"translate(321.340556 242.013594)scale(0.11 -0.11)\">\n       <defs>\n        <path d=\"M 4.734375 62.203125 \nL 4.734375 70.65625 \nL 51.078125 70.65625 \nL 51.078125 63.8125 \nQ 44.234375 56.546875 37.515625 44.484375 \nQ 30.8125 32.421875 27.15625 19.671875 \nQ 24.515625 10.6875 23.78125 0 \nL 14.75 0 \nQ 14.890625 8.453125 18.0625 20.40625 \nQ 21.234375 32.375 27.171875 43.484375 \nQ 33.109375 54.59375 39.796875 62.203125 \nz\n\" id=\"ArialMT-55\"/>\n       </defs>\n       <use xlink:href=\"#ArialMT-55\"/>\n       <use x=\"55.615234\" xlink:href=\"#ArialMT-48\"/>\n      </g>\n     </g>\n    </g>\n   </g>\n   <g id=\"matplotlib.axis_2\">\n    <g id=\"ytick_1\">\n     <g id=\"line2d_7\">\n      <path clip-path=\"url(#pead85bc20e)\" d=\"M 35.051094 224.64 \nL 369.851094 224.64 \n\" style=\"fill:none;stroke:#ffffff;stroke-linecap:round;\"/>\n     </g>\n     <g id=\"text_7\">\n      <!-- 0 -->\n      <g style=\"fill:#262626;\" transform=\"translate(19.434063 228.576797)scale(0.11 -0.11)\">\n       <use xlink:href=\"#ArialMT-48\"/>\n      </g>\n     </g>\n    </g>\n    <g id=\"ytick_2\">\n     <g id=\"line2d_8\">\n      <path clip-path=\"url(#pead85bc20e)\" d=\"M 35.051094 185.119826 \nL 369.851094 185.119826 \n\" style=\"fill:none;stroke:#ffffff;stroke-linecap:round;\"/>\n     </g>\n     <g id=\"text_8\">\n      <!-- 50 -->\n      <g style=\"fill:#262626;\" transform=\"translate(13.317031 189.056622)scale(0.11 -0.11)\">\n       <use xlink:href=\"#ArialMT-53\"/>\n       <use x=\"55.615234\" xlink:href=\"#ArialMT-48\"/>\n      </g>\n     </g>\n    </g>\n    <g id=\"ytick_3\">\n     <g id=\"line2d_9\">\n      <path clip-path=\"url(#pead85bc20e)\" d=\"M 35.051094 145.599651 \nL 369.851094 145.599651 \n\" style=\"fill:none;stroke:#ffffff;stroke-linecap:round;\"/>\n     </g>\n     <g id=\"text_9\">\n      <!-- 100 -->\n      <g style=\"fill:#262626;\" transform=\"translate(7.2 149.536448)scale(0.11 -0.11)\">\n       <defs>\n        <path d=\"M 37.25 0 \nL 28.46875 0 \nL 28.46875 56 \nQ 25.296875 52.984375 20.140625 49.953125 \nQ 14.984375 46.921875 10.890625 45.40625 \nL 10.890625 53.90625 \nQ 18.265625 57.375 23.78125 62.296875 \nQ 29.296875 67.234375 31.59375 71.875 \nL 37.25 71.875 \nz\n\" id=\"ArialMT-49\"/>\n       </defs>\n       <use xlink:href=\"#ArialMT-49\"/>\n       <use x=\"55.615234\" xlink:href=\"#ArialMT-48\"/>\n       <use x=\"111.230469\" xlink:href=\"#ArialMT-48\"/>\n      </g>\n     </g>\n    </g>\n    <g id=\"ytick_4\">\n     <g id=\"line2d_10\">\n      <path clip-path=\"url(#pead85bc20e)\" d=\"M 35.051094 106.079477 \nL 369.851094 106.079477 \n\" style=\"fill:none;stroke:#ffffff;stroke-linecap:round;\"/>\n     </g>\n     <g id=\"text_10\">\n      <!-- 150 -->\n      <g style=\"fill:#262626;\" transform=\"translate(7.2 110.016273)scale(0.11 -0.11)\">\n       <use xlink:href=\"#ArialMT-49\"/>\n       <use x=\"55.615234\" xlink:href=\"#ArialMT-53\"/>\n       <use x=\"111.230469\" xlink:href=\"#ArialMT-48\"/>\n      </g>\n     </g>\n    </g>\n    <g id=\"ytick_5\">\n     <g id=\"line2d_11\">\n      <path clip-path=\"url(#pead85bc20e)\" d=\"M 35.051094 66.559302 \nL 369.851094 66.559302 \n\" style=\"fill:none;stroke:#ffffff;stroke-linecap:round;\"/>\n     </g>\n     <g id=\"text_11\">\n      <!-- 200 -->\n      <g style=\"fill:#262626;\" transform=\"translate(7.2 70.496099)scale(0.11 -0.11)\">\n       <use xlink:href=\"#ArialMT-50\"/>\n       <use x=\"55.615234\" xlink:href=\"#ArialMT-48\"/>\n       <use x=\"111.230469\" xlink:href=\"#ArialMT-48\"/>\n      </g>\n     </g>\n    </g>\n    <g id=\"ytick_6\">\n     <g id=\"line2d_12\">\n      <path clip-path=\"url(#pead85bc20e)\" d=\"M 35.051094 27.039128 \nL 369.851094 27.039128 \n\" style=\"fill:none;stroke:#ffffff;stroke-linecap:round;\"/>\n     </g>\n     <g id=\"text_12\">\n      <!-- 250 -->\n      <g style=\"fill:#262626;\" transform=\"translate(7.2 30.975924)scale(0.11 -0.11)\">\n       <use xlink:href=\"#ArialMT-50\"/>\n       <use x=\"55.615234\" xlink:href=\"#ArialMT-53\"/>\n       <use x=\"111.230469\" xlink:href=\"#ArialMT-48\"/>\n      </g>\n     </g>\n    </g>\n   </g>\n   <g id=\"patch_3\">\n    <path clip-path=\"url(#pead85bc20e)\" d=\"M 50.269276 224.64 \nL 80.705639 224.64 \nL 80.705639 106.86988 \nL 50.269276 106.86988 \nz\n\" style=\"fill:#4c72b0;stroke:#ffffff;stroke-linejoin:miter;\"/>\n   </g>\n   <g id=\"patch_4\">\n    <path clip-path=\"url(#pead85bc20e)\" d=\"M 80.705639 224.64 \nL 111.142003 224.64 \nL 111.142003 17.554286 \nL 80.705639 17.554286 \nz\n\" style=\"fill:#4c72b0;stroke:#ffffff;stroke-linejoin:miter;\"/>\n   </g>\n   <g id=\"patch_5\">\n    <path clip-path=\"url(#pead85bc20e)\" d=\"M 111.142003 224.64 \nL 141.578366 224.64 \nL 141.578366 84.738582 \nL 111.142003 84.738582 \nz\n\" style=\"fill:#4c72b0;stroke:#ffffff;stroke-linejoin:miter;\"/>\n   </g>\n   <g id=\"patch_6\">\n    <path clip-path=\"url(#pead85bc20e)\" d=\"M 141.578366 224.64 \nL 172.01473 224.64 \nL 172.01473 102.127459 \nL 141.578366 102.127459 \nz\n\" style=\"fill:#4c72b0;stroke:#ffffff;stroke-linejoin:miter;\"/>\n   </g>\n   <g id=\"patch_7\">\n    <path clip-path=\"url(#pead85bc20e)\" d=\"M 172.01473 224.64 \nL 202.451094 224.64 \nL 202.451094 154.294089 \nL 172.01473 154.294089 \nz\n\" style=\"fill:#4c72b0;stroke:#ffffff;stroke-linejoin:miter;\"/>\n   </g>\n   <g id=\"patch_8\">\n    <path clip-path=\"url(#pead85bc20e)\" d=\"M 202.451094 224.64 \nL 232.887457 224.64 \nL 232.887457 167.730949 \nL 202.451094 167.730949 \nz\n\" style=\"fill:#4c72b0;stroke:#ffffff;stroke-linejoin:miter;\"/>\n   </g>\n   <g id=\"patch_9\">\n    <path clip-path=\"url(#pead85bc20e)\" d=\"M 232.887457 224.64 \nL 263.323821 224.64 \nL 263.323821 191.443053 \nL 232.887457 191.443053 \nz\n\" style=\"fill:#4c72b0;stroke:#ffffff;stroke-linejoin:miter;\"/>\n   </g>\n   <g id=\"patch_10\">\n    <path clip-path=\"url(#pead85bc20e)\" d=\"M 263.323821 224.64 \nL 293.760185 224.64 \nL 293.760185 204.089509 \nL 263.323821 204.089509 \nz\n\" style=\"fill:#4c72b0;stroke:#ffffff;stroke-linejoin:miter;\"/>\n   </g>\n   <g id=\"patch_11\">\n    <path clip-path=\"url(#pead85bc20e)\" d=\"M 293.760185 224.64 \nL 324.196548 224.64 \nL 324.196548 208.041527 \nL 293.760185 208.041527 \nz\n\" style=\"fill:#4c72b0;stroke:#ffffff;stroke-linejoin:miter;\"/>\n   </g>\n   <g id=\"patch_12\">\n    <path clip-path=\"url(#pead85bc20e)\" d=\"M 324.196548 224.64 \nL 354.632912 224.64 \nL 354.632912 219.107176 \nL 324.196548 219.107176 \nz\n\" style=\"fill:#4c72b0;stroke:#ffffff;stroke-linejoin:miter;\"/>\n   </g>\n   <g id=\"patch_13\">\n    <path d=\"M 35.051094 224.64 \nL 35.051094 7.2 \n\" style=\"fill:none;stroke:#ffffff;stroke-linecap:square;stroke-linejoin:miter;stroke-width:1.25;\"/>\n   </g>\n   <g id=\"patch_14\">\n    <path d=\"M 369.851094 224.64 \nL 369.851094 7.2 \n\" style=\"fill:none;stroke:#ffffff;stroke-linecap:square;stroke-linejoin:miter;stroke-width:1.25;\"/>\n   </g>\n   <g id=\"patch_15\">\n    <path d=\"M 35.051094 224.64 \nL 369.851094 224.64 \n\" style=\"fill:none;stroke:#ffffff;stroke-linecap:square;stroke-linejoin:miter;stroke-width:1.25;\"/>\n   </g>\n   <g id=\"patch_16\">\n    <path d=\"M 35.051094 7.2 \nL 369.851094 7.2 \n\" style=\"fill:none;stroke:#ffffff;stroke-linecap:square;stroke-linejoin:miter;stroke-width:1.25;\"/>\n   </g>\n  </g>\n </g>\n <defs>\n  <clipPath id=\"pead85bc20e\">\n   <rect height=\"217.44\" width=\"334.8\" x=\"35.051094\" y=\"7.2\"/>\n  </clipPath>\n </defs>\n</svg>\n",
      "image/png": "[encoded data removed]"
     },
     "metadata": {
      "needs_background": "light"
     }
    }
   ],
   "source": [
    "plt.hist(data2['Age'])\n",
    "print(data2['Age'].median())"
   ]
  },
  {
   "cell_type": "code",
   "execution_count": 16,
   "metadata": {},
   "outputs": [],
   "source": [
    "for i in range(len(data2.index)):\n",
    "    if data2['Age'][i] > 33:\n",
    "        data2['Age'][i] = True\n",
    "    else:\n",
    "        data2['Age'][i] = False\n",
    "data2 = data2.astype({'Age':'bool'}, copy = False)\n",
    "data2 = data2.dropna(axis=0)"
   ]
  },
  {
   "cell_type": "code",
   "execution_count": 17,
   "metadata": {},
   "outputs": [],
   "source": [
    "# Set Treatment | Confounding Features | Outcome\n",
    "treatment = 'Age'\n",
    "outcome = 'Risk'\n",
    "common_causes = 'Sex+Job+Housing+Savings accounts+Checking account+Credit amount+Duration+Purpose'.split('+')"
   ]
  },
  {
   "cell_type": "code",
   "execution_count": 18,
   "metadata": {},
   "outputs": [
    {
     "output_type": "stream",
     "name": "stderr",
     "text": [
      "WARNING:dowhy.causal_model:Causal Graph not provided. DoWhy will construct a graph based on data inputs.\n",
      "INFO:dowhy.causal_model:Model to find the causal effect of treatment ['Age'] on outcome ['Risk']\n",
      "INFO:dowhy.causal_identifier:Common causes of treatment and outcome:['Housing', 'Duration', 'Savings accounts', 'Purpose', 'Credit amount', 'Checking account', 'Job', 'Sex']\n",
      "WARNING:dowhy.causal_identifier:If this is observed data (not from a randomized experiment), there might always be missing confounders. Causal effect cannot be identified perfectly.\n",
      "INFO:dowhy.causal_identifier:Continuing by ignoring these unobserved confounders because proceed_when_unidentifiable flag is True.\n",
      "INFO:dowhy.causal_identifier:Instrumental variables for treatment and outcome:[]\n",
      "INFO:dowhy.causal_estimator:INFO: Using Propensity Score Weighting Estimator\n",
      "INFO:dowhy.causal_estimator:b: Risk~Age+Housing+Duration+Purpose+Credit amount+Checking account+Job+Sex\n",
      "ATE of Treatment 'Age' on Outcome 'Risk'     |     0.08207914661861138\n"
     ]
    },
    {
     "output_type": "execute_result",
     "data": {
      "text/plain": [
       "<graphviz.dot.Digraph at 0x7fb5c5553dd0>"
      ],
      "image/svg+xml": "<?xml version=\"1.0\" encoding=\"UTF-8\" standalone=\"no\"?>\n<!DOCTYPE svg PUBLIC \"-//W3C//DTD SVG 1.1//EN\"\n \"http://www.w3.org/Graphics/SVG/1.1/DTD/svg11.dtd\">\n<!-- Generated by graphviz version 2.44.1 (20200629.0846)\n -->\n<!-- Title: finite_state_machine Pages: 1 -->\n<svg width=\"576pt\" height=\"199pt\"\n viewBox=\"0.00 0.00 576.00 198.90\" xmlns=\"http://www.w3.org/2000/svg\" xmlns:xlink=\"http://www.w3.org/1999/xlink\">\n<g id=\"graph0\" class=\"graph\" transform=\"scale(0.61 0.61) rotate(0) translate(4 320.19)\">\n<title>finite_state_machine</title>\n<polygon fill=\"white\" stroke=\"transparent\" points=\"-4,4 -4,-320.19 934.84,-320.19 934.84,4 -4,4\"/>\n<!-- Age -->\n<g id=\"node1\" class=\"node\">\n<title>Age</title>\n<polygon fill=\"none\" stroke=\"black\" points=\"465.25,-131 426.25,-131 426.25,-92 465.25,-92 465.25,-131\"/>\n<polyline fill=\"none\" stroke=\"black\" points=\"438.25,-131 426.25,-119 \"/>\n<polyline fill=\"none\" stroke=\"black\" points=\"426.25,-104 438.25,-92 \"/>\n<polyline fill=\"none\" stroke=\"black\" points=\"453.25,-92 465.25,-104 \"/>\n<polyline fill=\"none\" stroke=\"black\" points=\"465.25,-119 453.25,-131 \"/>\n<text text-anchor=\"middle\" x=\"445.75\" y=\"-107.8\" font-family=\"Times,serif\" font-size=\"14.00\">Age</text>\n</g>\n<!-- Risk -->\n<g id=\"node2\" class=\"node\">\n<title>Risk</title>\n<polygon fill=\"none\" stroke=\"black\" points=\"434.25,-41 393.25,-41 393.25,0 434.25,0 434.25,-41\"/>\n<polyline fill=\"none\" stroke=\"black\" points=\"405.25,-41 393.25,-29 \"/>\n<polyline fill=\"none\" stroke=\"black\" points=\"393.25,-12 405.25,0 \"/>\n<polyline fill=\"none\" stroke=\"black\" points=\"422.25,0 434.25,-12 \"/>\n<polyline fill=\"none\" stroke=\"black\" points=\"434.25,-29 422.25,-41 \"/>\n<text text-anchor=\"middle\" x=\"413.75\" y=\"-16.8\" font-family=\"Times,serif\" font-size=\"14.00\">Risk</text>\n</g>\n<!-- Age&#45;&gt;Risk -->\n<g id=\"edge17\" class=\"edge\">\n<title>Age&#45;&gt;Risk</title>\n<path fill=\"none\" stroke=\"black\" d=\"M438.5,-91.98C436.29,-86.23 433.88,-79.87 431.75,-74 429,-66.44 426.14,-58.24 423.52,-50.6\"/>\n<polygon fill=\"black\" stroke=\"black\" points=\"426.79,-49.34 420.25,-41.01 420.16,-51.6 426.79,-49.34\"/>\n<text text-anchor=\"middle\" x=\"494.75\" y=\"-62.8\" font-family=\"Times,serif\" font-size=\"14.00\">0.08207914661861138</text>\n</g>\n<!-- Sex -->\n<g id=\"node3\" class=\"node\">\n<title>Sex</title>\n<ellipse fill=\"none\" stroke=\"black\" cx=\"343.75\" cy=\"-242.09\" rx=\"24.1\" ry=\"24.1\"/>\n<text text-anchor=\"middle\" x=\"343.75\" y=\"-238.39\" font-family=\"Times,serif\" font-size=\"14.00\">Sex</text>\n</g>\n<!-- Sex&#45;&gt;Age -->\n<g id=\"edge1\" class=\"edge\">\n<title>Sex&#45;&gt;Age</title>\n<path fill=\"none\" stroke=\"black\" d=\"M350.7,-218.84C356.19,-203.54 364.9,-183.3 376.75,-168 388.02,-153.44 403.85,-140.36 417.5,-130.55\"/>\n<polygon fill=\"black\" stroke=\"black\" points=\"419.86,-133.18 426.09,-124.6 415.87,-127.42 419.86,-133.18\"/>\n</g>\n<!-- Sex&#45;&gt;Risk -->\n<g id=\"edge2\" class=\"edge\">\n<title>Sex&#45;&gt;Risk</title>\n<path fill=\"none\" stroke=\"black\" d=\"M350.85,-218.83C363.55,-178.97 390.17,-95.45 404.37,-50.92\"/>\n<polygon fill=\"black\" stroke=\"black\" points=\"407.74,-51.86 407.45,-41.27 401.07,-49.73 407.74,-51.86\"/>\n</g>\n<!-- Job -->\n<g id=\"node4\" class=\"node\">\n<title>Job</title>\n<ellipse fill=\"none\" stroke=\"black\" cx=\"22.75\" cy=\"-242.09\" rx=\"23\" ry=\"23\"/>\n<text text-anchor=\"middle\" x=\"22.75\" y=\"-238.39\" font-family=\"Times,serif\" font-size=\"14.00\">Job</text>\n</g>\n<!-- Job&#45;&gt;Age -->\n<g id=\"edge3\" class=\"edge\">\n<title>Job&#45;&gt;Age</title>\n<path fill=\"none\" stroke=\"black\" d=\"M26.39,-219.32C30.39,-202.59 38.53,-180.32 54.75,-168 111.57,-124.84 334.49,-115.17 415.83,-113.07\"/>\n<polygon fill=\"black\" stroke=\"black\" points=\"415.99,-116.57 425.91,-112.83 415.83,-109.57 415.99,-116.57\"/>\n</g>\n<!-- Job&#45;&gt;Risk -->\n<g id=\"edge4\" class=\"edge\">\n<title>Job&#45;&gt;Risk</title>\n<path fill=\"none\" stroke=\"black\" d=\"M27.47,-219.69C32.01,-203.61 40.37,-182.02 54.75,-168 150.82,-74.32 314.94,-37.71 382.89,-26.09\"/>\n<polygon fill=\"black\" stroke=\"black\" points=\"383.64,-29.51 392.94,-24.43 382.51,-22.6 383.64,-29.51\"/>\n</g>\n<!-- Housing -->\n<g id=\"node5\" class=\"node\">\n<title>Housing</title>\n<ellipse fill=\"none\" stroke=\"black\" cx=\"425.75\" cy=\"-242.09\" rx=\"40.09\" ry=\"40.09\"/>\n<text text-anchor=\"middle\" x=\"425.75\" y=\"-238.39\" font-family=\"Times,serif\" font-size=\"14.00\">Housing</text>\n</g>\n<!-- Housing&#45;&gt;Age -->\n<g id=\"edge5\" class=\"edge\">\n<title>Housing&#45;&gt;Age</title>\n<path fill=\"none\" stroke=\"black\" d=\"M431.8,-202.16C434.86,-182.51 438.5,-159.1 441.3,-141.12\"/>\n<polygon fill=\"black\" stroke=\"black\" points=\"444.76,-141.66 442.83,-131.24 437.84,-140.58 444.76,-141.66\"/>\n</g>\n<!-- Housing&#45;&gt;Risk -->\n<g id=\"edge6\" class=\"edge\">\n<title>Housing&#45;&gt;Risk</title>\n<path fill=\"none\" stroke=\"black\" d=\"M422.02,-201.89C420.16,-180.89 418.03,-154.55 416.75,-131 415.28,-104.07 414.52,-73.38 414.13,-51.36\"/>\n<polygon fill=\"black\" stroke=\"black\" points=\"417.63,-51.24 413.97,-41.29 410.63,-51.35 417.63,-51.24\"/>\n</g>\n<!-- Savings accounts -->\n<g id=\"node6\" class=\"node\">\n<title>Savings accounts</title>\n<ellipse fill=\"none\" stroke=\"black\" cx=\"134.75\" cy=\"-242.09\" rx=\"71.49\" ry=\"71.49\"/>\n<text text-anchor=\"middle\" x=\"134.75\" y=\"-238.39\" font-family=\"Times,serif\" font-size=\"14.00\">Savings accounts</text>\n</g>\n<!-- Savings accounts&#45;&gt;Age -->\n<g id=\"edge7\" class=\"edge\">\n<title>Savings accounts&#45;&gt;Age</title>\n<path fill=\"none\" stroke=\"black\" d=\"M183.03,-188.93C192.81,-180.82 203.55,-173.36 214.75,-168 262.2,-145.28 280.59,-162.26 331.75,-150 361.05,-142.98 393.62,-131.92 416.42,-123.63\"/>\n<polygon fill=\"black\" stroke=\"black\" points=\"417.68,-126.9 425.86,-120.16 415.26,-120.33 417.68,-126.9\"/>\n</g>\n<!-- Savings accounts&#45;&gt;Risk -->\n<g id=\"edge8\" class=\"edge\">\n<title>Savings accounts&#45;&gt;Risk</title>\n<path fill=\"none\" stroke=\"black\" d=\"M186.54,-192.31C195.79,-184.03 205.44,-175.64 214.75,-168 273.16,-120.04 345.42,-68.71 384.81,-41.36\"/>\n<polygon fill=\"black\" stroke=\"black\" points=\"386.93,-44.15 393.16,-35.58 382.94,-38.39 386.93,-44.15\"/>\n</g>\n<!-- Checking account -->\n<g id=\"node7\" class=\"node\">\n<title>Checking account</title>\n<ellipse fill=\"none\" stroke=\"black\" cx=\"856.75\" cy=\"-242.09\" rx=\"74.19\" ry=\"74.19\"/>\n<text text-anchor=\"middle\" x=\"856.75\" y=\"-238.39\" font-family=\"Times,serif\" font-size=\"14.00\">Checking account</text>\n</g>\n<!-- Checking account&#45;&gt;Age -->\n<g id=\"edge9\" class=\"edge\">\n<title>Checking account&#45;&gt;Age</title>\n<path fill=\"none\" stroke=\"black\" d=\"M805.44,-188.34C795.57,-180.5 784.84,-173.29 773.75,-168 672.15,-119.57 535.17,-112.71 475.54,-112.2\"/>\n<polygon fill=\"black\" stroke=\"black\" points=\"475.35,-108.7 465.34,-112.17 475.33,-115.7 475.35,-108.7\"/>\n</g>\n<!-- Checking account&#45;&gt;Risk -->\n<g id=\"edge10\" class=\"edge\">\n<title>Checking account&#45;&gt;Risk</title>\n<path fill=\"none\" stroke=\"black\" d=\"M805.21,-188.38C760.55,-146.12 692.03,-89.07 620.75,-59 561.46,-34 485.75,-25.65 444.29,-22.87\"/>\n<polygon fill=\"black\" stroke=\"black\" points=\"444.47,-19.38 434.28,-22.27 444.05,-26.36 444.47,-19.38\"/>\n</g>\n<!-- Credit amount -->\n<g id=\"node8\" class=\"node\">\n<title>Credit amount</title>\n<ellipse fill=\"none\" stroke=\"black\" cx=\"702.75\" cy=\"-242.09\" rx=\"61.99\" ry=\"61.99\"/>\n<text text-anchor=\"middle\" x=\"702.75\" y=\"-238.39\" font-family=\"Times,serif\" font-size=\"14.00\">Credit amount</text>\n</g>\n<!-- Credit amount&#45;&gt;Age -->\n<g id=\"edge11\" class=\"edge\">\n<title>Credit amount&#45;&gt;Age</title>\n<path fill=\"none\" stroke=\"black\" d=\"M663.86,-193.84C654.17,-184.24 643.25,-174.97 631.75,-168 581.57,-137.58 513.6,-122.87 475.25,-116.57\"/>\n<polygon fill=\"black\" stroke=\"black\" points=\"475.69,-113.09 465.26,-115.01 474.6,-120.01 475.69,-113.09\"/>\n</g>\n<!-- Credit amount&#45;&gt;Risk -->\n<g id=\"edge12\" class=\"edge\">\n<title>Credit amount&#45;&gt;Risk</title>\n<path fill=\"none\" stroke=\"black\" d=\"M684.75,-183C668.74,-141.52 641.05,-88.12 597.75,-59 551.01,-27.58 483.56,-21.49 444.63,-20.85\"/>\n<polygon fill=\"black\" stroke=\"black\" points=\"444.47,-17.35 434.45,-20.8 444.44,-24.35 444.47,-17.35\"/>\n</g>\n<!-- Duration -->\n<g id=\"node9\" class=\"node\">\n<title>Duration</title>\n<ellipse fill=\"none\" stroke=\"black\" cx=\"526.75\" cy=\"-242.09\" rx=\"42.49\" ry=\"42.49\"/>\n<text text-anchor=\"middle\" x=\"526.75\" y=\"-238.39\" font-family=\"Times,serif\" font-size=\"14.00\">Duration</text>\n</g>\n<!-- Duration&#45;&gt;Age -->\n<g id=\"edge13\" class=\"edge\">\n<title>Duration&#45;&gt;Age</title>\n<path fill=\"none\" stroke=\"black\" d=\"M504.61,-205.95C491.51,-185.15 475.16,-159.19 463.01,-139.91\"/>\n<polygon fill=\"black\" stroke=\"black\" points=\"465.88,-137.9 457.59,-131.3 459.96,-141.63 465.88,-137.9\"/>\n</g>\n<!-- Duration&#45;&gt;Risk -->\n<g id=\"edge14\" class=\"edge\">\n<title>Duration&#45;&gt;Risk</title>\n<path fill=\"none\" stroke=\"black\" d=\"M547.62,-205.02C567.6,-165.18 590.3,-101.12 557.75,-59 543.99,-41.2 482.33,-30.27 444.29,-25.09\"/>\n<polygon fill=\"black\" stroke=\"black\" points=\"444.62,-21.61 434.25,-23.78 443.71,-28.55 444.62,-21.61\"/>\n</g>\n<!-- Purpose -->\n<g id=\"node10\" class=\"node\">\n<title>Purpose</title>\n<ellipse fill=\"none\" stroke=\"black\" cx=\"262.75\" cy=\"-242.09\" rx=\"38.99\" ry=\"38.99\"/>\n<text text-anchor=\"middle\" x=\"262.75\" y=\"-238.39\" font-family=\"Times,serif\" font-size=\"14.00\">Purpose</text>\n</g>\n<!-- Purpose&#45;&gt;Age -->\n<g id=\"edge15\" class=\"edge\">\n<title>Purpose&#45;&gt;Age</title>\n<path fill=\"none\" stroke=\"black\" d=\"M279.34,-206.78C287.29,-193.22 297.9,-178.42 310.75,-168 327.8,-154.17 336.41,-158.26 356.75,-150 376.75,-141.88 399.14,-132.44 416.46,-125.07\"/>\n<polygon fill=\"black\" stroke=\"black\" points=\"418.19,-128.13 426.01,-120.99 415.44,-121.69 418.19,-128.13\"/>\n</g>\n<!-- Purpose&#45;&gt;Risk -->\n<g id=\"edge16\" class=\"edge\">\n<title>Purpose&#45;&gt;Risk</title>\n<path fill=\"none\" stroke=\"black\" d=\"M283.56,-208.93C291.92,-196.13 301.7,-181.31 310.75,-168 338.94,-126.52 372.5,-79.15 393.47,-49.78\"/>\n<polygon fill=\"black\" stroke=\"black\" points=\"396.58,-51.44 399.55,-41.27 390.89,-47.37 396.58,-51.44\"/>\n</g>\n<!-- U -->\n<g id=\"node11\" class=\"node\">\n<title>U</title>\n<ellipse fill=\"black\" stroke=\"black\" cx=\"604.75\" cy=\"-242.09\" rx=\"18\" ry=\"18\"/>\n<text text-anchor=\"middle\" x=\"604.75\" y=\"-238.39\" font-family=\"Times,serif\" font-size=\"14.00\">U</text>\n</g>\n<!-- U&#45;&gt;Age -->\n<g id=\"edge18\" class=\"edge\">\n<title>U&#45;&gt;Age</title>\n<path fill=\"none\" stroke=\"lightgrey\" d=\"M602.59,-224.13C599.66,-207.75 592.92,-183.25 577.75,-168 561.68,-151.85 550.83,-158.65 529.75,-150 511.27,-142.42 490.8,-133.3 474.7,-125.95\"/>\n<polygon fill=\"lightgrey\" stroke=\"lightgrey\" points=\"475.84,-122.62 465.29,-121.63 472.92,-128.98 475.84,-122.62\"/>\n</g>\n<!-- U&#45;&gt;Risk -->\n<g id=\"edge19\" class=\"edge\">\n<title>U&#45;&gt;Risk</title>\n<path fill=\"none\" stroke=\"lightgrey\" d=\"M608.21,-224.4C614.64,-188.09 623.86,-101.8 576.75,-59 557.62,-41.62 486.28,-30.28 444.59,-24.98\"/>\n<polygon fill=\"lightgrey\" stroke=\"lightgrey\" points=\"444.78,-21.48 434.43,-23.74 443.93,-28.43 444.78,-21.48\"/>\n</g>\n</g>\n</svg>\n"
     },
     "metadata": {},
     "execution_count": 18
    }
   ],
   "source": [
    "analysis(data2, treatment, outcome, common_causes)"
   ]
  },
  {
   "cell_type": "code",
   "execution_count": null,
   "metadata": {},
   "outputs": [],
   "source": []
  }
 ]
}